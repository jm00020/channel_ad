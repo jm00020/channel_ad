{
 "cells": [
  {
   "cell_type": "code",
   "execution_count": 1,
   "metadata": {},
   "outputs": [
    {
     "name": "stderr",
     "output_type": "stream",
     "text": [
      "Using TensorFlow backend.\n"
     ]
    }
   ],
   "source": [
    "import keras\n",
    "from keras.layers import Dense, Input, GaussianNoise, Average, Lambda, Dropout\n",
    "from keras.models import Model, load_model\n",
    "import numpy as np\n",
    "\n",
    "import keras.backend as K"
   ]
  },
  {
   "cell_type": "code",
   "execution_count": 2,
   "metadata": {},
   "outputs": [],
   "source": [
    "m_length = 12\n",
    "code_num = 10**5"
   ]
  },
  {
   "cell_type": "code",
   "execution_count": 3,
   "metadata": {},
   "outputs": [],
   "source": [
    "msg=np.random.randint(0,2,size=(10**7,12))\n",
    "msg = np.where(msg>0,-1,1)"
   ]
  },
  {
   "cell_type": "code",
   "execution_count": 4,
   "metadata": {},
   "outputs": [],
   "source": [
    "msg=np.zeros((2**12,12))\n",
    "for i in range(2**12):\n",
    "    a = list(format(i, 'b').zfill(12))\n",
    "    msg[i] = a\n",
    "# msg = np.where(msg>0, -1,1)\n",
    "\n",
    "msg = np.tile(msg,(10000,1))"
   ]
  },
  {
   "cell_type": "code",
   "execution_count": 5,
   "metadata": {},
   "outputs": [],
   "source": [
    "test_msg=np.zeros((2**12,12))\n",
    "for i in range(2**12):\n",
    "    a = list(format(i, 'b').zfill(12))\n",
    "    test_msg[i] = a\n",
    "# test_msg = np.where(test_msg>0, -1,1)"
   ]
  },
  {
   "cell_type": "code",
   "execution_count": null,
   "metadata": {},
   "outputs": [],
   "source": [
    "input_layer = Input(shape=(12,))\n",
    "Dense1 = Dense(24,activation='elu')(input_layer)\n",
    "\n",
    "Dense2 = Dense(18,activation='elu')(input_layer)\n",
    "Dense3 = Dense(24,activation='elu')(Dense2)\n",
    "\n",
    "Dense4 = Dense(16,activation='elu')(input_layer)\n",
    "Dense5 = Dense(20,activation='elu')(Dense4)\n",
    "Dense6 = Dense(24,activation='elu')(Dense5)\n",
    "\n",
    "Dense7 = Dense(15,activation='elu')(input_layer)\n",
    "Dense8 = Dense(18,activation='elu')(Dense7)\n",
    "Dense9 = Dense(21,activation='elu')(Dense8)\n",
    "Dense10 = Dense(24,activation='elu')(Dense9)\n",
    "\n",
    "Dense11 = Dense(14,activation='elu')(input_layer)\n",
    "Dense12 = Dense(16,activation='elu')(Dense11)\n",
    "Dense13 = Dense(18,activation='elu')(Dense12)\n",
    "Dense14 = Dense(20,activation='elu')(Dense13)\n",
    "Dense15 = Dense(22,activation='elu')(Dense14)\n",
    "Dense16 = Dense(24,activation='elu')(Dense15)\n",
    "\n",
    "average_layer = Average()([Dense1, Dense3, Dense6, Dense10, Dense16])\n",
    "output_layer = Dense(24,activation='sigmoid')(average_layer)\n",
    "\n",
    "model = Model(inputs = input_layer, outputs=output_layer)"
   ]
  },
  {
   "cell_type": "code",
   "execution_count": null,
   "metadata": {},
   "outputs": [],
   "source": [
    "input_layer_2 = Input(shape=(24,))\n",
    "Dense1 = Dense(12,activation='elu')(input_layer_2)\n",
    "\n",
    "Dense2 = Dense(18,activation='elu')(input_layer_2)\n",
    "Dense3 = Dense(12,activation='elu')(Dense2)\n",
    "\n",
    "Dense4 = Dense(20,activation='elu')(input_layer_2)\n",
    "Dense5 = Dense(16,activation='elu')(Dense4)\n",
    "Dense6 = Dense(12,activation='elu')(Dense5)\n",
    "\n",
    "Dense7 = Dense(21,activation='elu')(input_layer_2)\n",
    "Dense8 = Dense(18,activation='elu')(Dense7)\n",
    "Dense9 = Dense(15,activation='elu')(Dense8)\n",
    "Dense10 = Dense(12,activation='elu')(Dense9)\n",
    "\n",
    "Dense11 = Dense(22,activation='elu')(input_layer_2)\n",
    "Dense12 = Dense(20,activation='elu')(Dense11)\n",
    "Dense13 = Dense(18,activation='elu')(Dense12)\n",
    "Dense14 = Dense(16,activation='elu')(Dense13)\n",
    "Dense15 = Dense(14,activation='elu')(Dense14)\n",
    "Dense16 = Dense(12,activation='elu')(Dense15)\n",
    "\n",
    "\n",
    "average_layer = Average()([Dense1, Dense3, Dense6, Dense10, Dense16])\n",
    "output_layer_2 = Dense(12,activation='sigmoid')(average_layer)\n",
    "\n",
    "model_2 = Model(inputs = input_layer_2, outputs=output_layer_2)"
   ]
  },
  {
   "cell_type": "code",
   "execution_count": null,
   "metadata": {},
   "outputs": [],
   "source": [
    "model.compile(optimizer='adam', loss='hinge', metrics=['accuracy'])\n",
    "model_2.compile(optimizer='adam', loss='hinge', metrics=['accuracy'])"
   ]
  },
  {
   "cell_type": "code",
   "execution_count": 6,
   "metadata": {},
   "outputs": [
    {
     "name": "stdout",
     "output_type": "stream",
     "text": [
      "WARNING:tensorflow:From D:\\anaconda\\lib\\site-packages\\tensorflow_core\\python\\ops\\resource_variable_ops.py:1630: calling BaseResourceVariable.__init__ (from tensorflow.python.ops.resource_variable_ops) with constraint is deprecated and will be removed in a future version.\n",
      "Instructions for updating:\n",
      "If using Keras pass *_constraint arguments to layers.\n"
     ]
    }
   ],
   "source": [
    "model= load_model('model/encoder_hinge_v2.h5')\n",
    "model_2= load_model('model/decoder_hinge_v2.h5')"
   ]
  },
  {
   "cell_type": "code",
   "execution_count": 7,
   "metadata": {},
   "outputs": [],
   "source": [
    "SNR = 10**(0/10)*0.5\n",
    "var = np.sqrt(1/(2*SNR))"
   ]
  },
  {
   "cell_type": "code",
   "execution_count": 8,
   "metadata": {},
   "outputs": [],
   "source": [
    "input_layer = Input(shape=(12,))\n",
    "frist_out = model(input_layer)\n",
    "trans_x = Lambda(lambda x: -1**x)(frist_out)\n",
    "# code_noise = GaussianNoise(var)(trans_x)\n",
    "second_out = model_2(trans_x)\n",
    "\n",
    "total_model = Model(inputs=input_layer, outputs=second_out)\n",
    "total_model.compile(optimizer='adam', loss='hinge', metrics=['accuracy'])"
   ]
  },
  {
   "cell_type": "code",
   "execution_count": null,
   "metadata": {},
   "outputs": [],
   "source": [
    "total_model.fit(msg,msg,\n",
    "         epochs=10,\n",
    "         batch_size=10000,\n",
    "         shuffle=True,\n",
    "         validation_data=(test_msg, test_msg))"
   ]
  },
  {
   "cell_type": "code",
   "execution_count": null,
   "metadata": {},
   "outputs": [],
   "source": [
    "loss = total_model.evaluate(test_msg,test_msg, verbose=0)\n",
    "print(loss)"
   ]
  },
  {
   "cell_type": "code",
   "execution_count": 11,
   "metadata": {},
   "outputs": [
    {
     "name": "stdout",
     "output_type": "stream",
     "text": [
      "[0.9999999552965164, 0.500244140625]\n",
      "[0.9999999552965164, 0.500244140625]\n",
      "[0.9999999552965164, 0.500244140625]\n",
      "[0.9999999552965164, 0.500244140625]\n",
      "[0.9999999552965164, 0.500244140625]\n",
      "[0.9999999552965164, 0.500244140625]\n",
      "[0.9999999552965164, 0.500244140625]\n",
      "[0.9999999552965164, 0.500244140625]\n",
      "[0.9999999552965164, 0.500244140625]\n",
      "[0.9999999552965164, 0.500244140625]\n"
     ]
    }
   ],
   "source": [
    "for i in range(10):\n",
    "    total_model.fit(msg,msg,\n",
    "         epochs=20,\n",
    "         batch_size=10000,\n",
    "         shuffle=True,\n",
    "         validation_data=(test_msg, test_msg),\n",
    "         verbose = 0)\n",
    "#     if i%10 == 0:\n",
    "    loss = total_model.evaluate(test_msg,test_msg, verbose=0)\n",
    "    print(loss)"
   ]
  },
  {
   "cell_type": "code",
   "execution_count": null,
   "metadata": {},
   "outputs": [],
   "source": [
    "m = np.random.randint(0,2,size=(10**5,12))\n",
    "m = np.where(m>0,-1,1)"
   ]
  },
  {
   "cell_type": "code",
   "execution_count": null,
   "metadata": {},
   "outputs": [],
   "source": [
    "a = model.predict(test_msg)"
   ]
  },
  {
   "cell_type": "code",
   "execution_count": null,
   "metadata": {},
   "outputs": [],
   "source": [
    "print(a[0])"
   ]
  },
  {
   "cell_type": "code",
   "execution_count": null,
   "metadata": {},
   "outputs": [],
   "source": [
    "a = -1**a"
   ]
  },
  {
   "cell_type": "code",
   "execution_count": null,
   "metadata": {},
   "outputs": [],
   "source": [
    "noise = a+ np.random.normal(0, var, size = a.shape)"
   ]
  },
  {
   "cell_type": "code",
   "execution_count": null,
   "metadata": {},
   "outputs": [],
   "source": [
    "b = model_2.predict(a)"
   ]
  },
  {
   "cell_type": "code",
   "execution_count": null,
   "metadata": {},
   "outputs": [],
   "source": [
    "print(b[0])"
   ]
  },
  {
   "cell_type": "code",
   "execution_count": null,
   "metadata": {},
   "outputs": [],
   "source": [
    "print(test_msg[0])"
   ]
  },
  {
   "cell_type": "code",
   "execution_count": null,
   "metadata": {},
   "outputs": [],
   "source": [
    "c = np.where(b>0,0,1)\n",
    "d = np.where(m>0,0,1)"
   ]
  },
  {
   "cell_type": "code",
   "execution_count": null,
   "metadata": {},
   "outputs": [],
   "source": [
    "print(((c+d)%2).sum())"
   ]
  },
  {
   "cell_type": "code",
   "execution_count": null,
   "metadata": {},
   "outputs": [],
   "source": [
    "print(94422/(12*10**5))"
   ]
  },
  {
   "cell_type": "code",
   "execution_count": null,
   "metadata": {},
   "outputs": [],
   "source": [
    "model.save('model/encoder_hinge_v2.h5')\n",
    "model_2.save('model/decoder_hinge_v2.h5')"
   ]
  },
  {
   "cell_type": "code",
   "execution_count": null,
   "metadata": {},
   "outputs": [],
   "source": [
    "code=np.where(a>0,0,1)\n",
    "m= np.where(test_msg>0,0,1)"
   ]
  },
  {
   "cell_type": "code",
   "execution_count": null,
   "metadata": {},
   "outputs": [],
   "source": [
    "code = a\n",
    "m = test_msg"
   ]
  },
  {
   "cell_type": "code",
   "execution_count": null,
   "metadata": {},
   "outputs": [],
   "source": [
    "np.savetxt('code.csv',code,delimiter=',')\n",
    "np.savetxt('m.csv',m,delimiter=',')"
   ]
  },
  {
   "cell_type": "code",
   "execution_count": null,
   "metadata": {},
   "outputs": [],
   "source": [
    "G = np.zeros((24,12))"
   ]
  },
  {
   "cell_type": "code",
   "execution_count": null,
   "metadata": {},
   "outputs": [],
   "source": [
    "print(m[2**11])"
   ]
  },
  {
   "cell_type": "code",
   "execution_count": null,
   "metadata": {},
   "outputs": [],
   "source": [
    "print(code[2**11])"
   ]
  },
  {
   "cell_type": "code",
   "execution_count": null,
   "metadata": {},
   "outputs": [],
   "source": [
    "G[:,11] = code[1]"
   ]
  },
  {
   "cell_type": "code",
   "execution_count": null,
   "metadata": {},
   "outputs": [],
   "source": [
    "for i in range(12):\n",
    "    G[:,11-i] = code[2**i]"
   ]
  },
  {
   "cell_type": "code",
   "execution_count": null,
   "metadata": {},
   "outputs": [],
   "source": [
    "print(G)"
   ]
  },
  {
   "cell_type": "code",
   "execution_count": null,
   "metadata": {},
   "outputs": [],
   "source": [
    "c = np.dot(G,m.T)"
   ]
  },
  {
   "cell_type": "code",
   "execution_count": null,
   "metadata": {},
   "outputs": [],
   "source": [
    "print(c%2)"
   ]
  },
  {
   "cell_type": "code",
   "execution_count": null,
   "metadata": {},
   "outputs": [],
   "source": [
    "c = c.T"
   ]
  },
  {
   "cell_type": "code",
   "execution_count": null,
   "metadata": {},
   "outputs": [],
   "source": [
    "print(code.shape)"
   ]
  },
  {
   "cell_type": "code",
   "execution_count": null,
   "metadata": {},
   "outputs": [],
   "source": [
    "c == code"
   ]
  },
  {
   "cell_type": "code",
   "execution_count": null,
   "metadata": {},
   "outputs": [],
   "source": []
  }
 ],
 "metadata": {
  "kernelspec": {
   "display_name": "Python 3",
   "language": "python",
   "name": "python3"
  },
  "language_info": {
   "codemirror_mode": {
    "name": "ipython",
    "version": 3
   },
   "file_extension": ".py",
   "mimetype": "text/x-python",
   "name": "python",
   "nbconvert_exporter": "python",
   "pygments_lexer": "ipython3",
   "version": "3.6.10"
  }
 },
 "nbformat": 4,
 "nbformat_minor": 2
}
